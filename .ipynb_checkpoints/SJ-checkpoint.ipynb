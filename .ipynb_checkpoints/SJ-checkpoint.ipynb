{
 "cells": [
  {
   "cell_type": "markdown",
   "metadata": {
    "extensions": {
     "jupyter_dashboards": {
      "version": 1,
      "views": {
       "grid_default": {},
       "report_default": {
        "hidden": false
       }
      }
     }
    }
   },
   "source": [
    "# Histogram output"
   ]
  },
  {
   "cell_type": "code",
   "execution_count": 1,
   "metadata": {
    "extensions": {
     "jupyter_dashboards": {
      "version": 1,
      "views": {
       "grid_default": {},
       "report_default": {
        "hidden": false
       }
      }
     }
    }
   },
   "outputs": [
    {
     "name": "stdout",
     "output_type": "stream",
     "text": [
      "Importing data\n",
      "Cleaning data\n",
      "Extracting list data\n",
      "Data lists extracted\n",
      "(69924, 4)\n"
     ]
    },
    {
     "data": {
      "application/vnd.jupyter.widget-view+json": {
       "model_id": "17646c95ab694cb6acfa6a2223f1deca",
       "version_major": 2,
       "version_minor": 0
      },
      "text/plain": [
       "VBox(children=(interactive(children=(Dropdown(description='TrainNumber', options=(701, 702, 703, 704, 710, 711…"
      ]
     },
     "metadata": {},
     "output_type": "display_data"
    }
   ],
   "source": [
    "# HIDDEN\n",
    "import nbinteract as nbi\n",
    "import pandas as pd\n",
    "import datetime as dt\n",
    "import numpy as np\n",
    "\n",
    "# %matplotlib qt\n",
    "\n",
    "print(\"Importing data\")\n",
    "\n",
    "dateparse = lambda x: pd.to_datetime([x])\n",
    "df = pd.read_csv(\"data1.csv\",\n",
    "                 parse_dates=[[\"Index Dt\",\"Act Arr\"],[\"Index Dt\",\"Act Dep\"]],\n",
    "                )#,header =4)\n",
    "df.drop([\"Arr\",\"Dep\"], axis=1, inplace=True)\n",
    "df.columns = [\"Arr\",\"Dep\",\"Train\",\"Station\"]\n",
    "\n",
    "print(\"Cleaning data\")\n",
    "\n",
    "for i in [\"Arr\",\"Dep\"]:\n",
    "    df[i] = pd.to_datetime(df[i],errors='coerce')\n",
    "df['Date'] = df['Arr'].dt.date\n",
    "    \n",
    "df.sort_values(by=['Train','Date', 'Arr'], inplace=True,na_position='first')\n",
    "df[\"Dwell\"] = df.Dep - df.Arr\n",
    "df['Runtime'] = df.Arr - df.Dep.shift()\n",
    "df.loc[df['Runtime'] > pd.Timedelta(.5,unit=\"D\"),\"Runtime\"] = pd.NaT\n",
    "df.loc[df['Runtime'] < pd.Timedelta(1,unit=\"s\"),\"Runtime\"] = pd.NaT\n",
    "df.reset_index(inplace = True,drop=True)\n",
    "\n",
    "print(\"Extracting list data\")\n",
    "\n",
    "values = \"Date\",\"Train\",\"Station\"\n",
    "dd = {i:None for i in values}\n",
    "\n",
    "for key in dd:\n",
    "    dd[key] = list(df[key].unique())\n",
    "    dd[key] = [x for x in dd[key] if str(x)!= 'nan']\n",
    "    dd[key].sort()\n",
    "\n",
    "print(\"Data lists extracted\")\n",
    "\n",
    "start_date = min(df['Date'])\n",
    "end_date = max(df['Date'])\n",
    "df.set_index(['Train','Station','Date'],inplace = True)\n",
    "df.sort_values(by=[\"Train\",\"Date\",'Arr'])\n",
    "print(df.shape)\n",
    "\n",
    "\n",
    "\n",
    "\n",
    "def hist_response(TrainNumber,Station,RunType,Unit):\n",
    "    global df\n",
    "    out = df.xs(\n",
    "        (TrainNumber, Station),\n",
    "        level=[0, 'Station'])[RunType].dt.seconds.sort_index()\n",
    "    units = {\n",
    "        \"Mins\": 60,\n",
    "        \"Seconds\": 1,\n",
    "    }\n",
    "    out = out/units[Unit]\n",
    "    return(out)\n",
    "\n",
    "\n",
    "nbi.hist(\n",
    "    hist_response,\n",
    "    TrainNumber = dd[\"Train\"],\n",
    "    Station = dd[\"Station\"],\n",
    "    RunType = [\"Runtime\",\"Dwell\"],\n",
    "    Unit = [\"Mins\",\"Seconds\"],\n",
    "    \n",
    "    options = {\n",
    "        'title': \"Histogram of historic train data\",\n",
    "        'xlabel': \"Time\",\n",
    "        'ylabel': \"Normalized observations\",\n",
    "#         'xlim': (0, 30),\n",
    "        'ylim':(0,0.5),\n",
    "        'bins' :50,\n",
    "        \n",
    "    }\n",
    ")"
   ]
  },
  {
   "cell_type": "code",
   "execution_count": null,
   "metadata": {},
   "outputs": [],
   "source": []
  }
 ],
 "metadata": {
  "extensions": {
   "jupyter_dashboards": {
    "activeView": "report_default",
    "version": 1,
    "views": {
     "grid_default": {
      "name": "grid",
      "type": "grid"
     },
     "report_default": {
      "name": "report",
      "type": "report"
     }
    }
   }
  },
  "kernelspec": {
   "display_name": "Python 3",
   "language": "python",
   "name": "python3"
  },
  "language_info": {
   "codemirror_mode": {
    "name": "ipython",
    "version": 3
   },
   "file_extension": ".py",
   "mimetype": "text/x-python",
   "name": "python",
   "nbconvert_exporter": "python",
   "pygments_lexer": "ipython3",
   "version": "3.7.2"
  }
 },
 "nbformat": 4,
 "nbformat_minor": 2
}
