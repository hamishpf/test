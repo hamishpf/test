{
 "cells": [
  {
   "cell_type": "markdown",
   "metadata": {
    "extensions": {
     "jupyter_dashboards": {
      "version": 1,
      "views": {
       "grid_default": {},
       "report_default": {
        "hidden": false
       }
      }
     }
    }
   },
   "source": [
    "Data"
   ]
  },
  {
   "cell_type": "markdown",
   "metadata": {
    "extensions": {
     "jupyter_dashboards": {
      "version": 1,
      "views": {
       "grid_default": {},
       "report_default": {
        "hidden": false
       }
      }
     }
    }
   },
   "source": [
    "Load data"
   ]
  },
  {
   "cell_type": "code",
   "execution_count": 1,
   "metadata": {
    "extensions": {
     "jupyter_dashboards": {
      "version": 1,
      "views": {
       "grid_default": {},
       "report_default": {
        "hidden": true
       }
      }
     }
    }
   },
   "outputs": [],
   "source": [
    "import nbinteract as nbi\n",
    "import pandas as pd\n",
    "import datetime as dt\n",
    "import numpy as np\n",
    "\n",
    "# %matplotlib qt"
   ]
  },
  {
   "cell_type": "code",
   "execution_count": 2,
   "metadata": {},
   "outputs": [
    {
     "name": "stdout",
     "output_type": "stream",
     "text": [
      "Importing data\n",
      "Cleaning data\n",
      "Extracting list data\n",
      "Data lists extracted\n",
      "(69924, 4)\n"
     ]
    },
    {
     "data": {
      "text/html": [
       "<div>\n",
       "<style scoped>\n",
       "    .dataframe tbody tr th:only-of-type {\n",
       "        vertical-align: middle;\n",
       "    }\n",
       "\n",
       "    .dataframe tbody tr th {\n",
       "        vertical-align: top;\n",
       "    }\n",
       "\n",
       "    .dataframe thead th {\n",
       "        text-align: right;\n",
       "    }\n",
       "</style>\n",
       "<table border=\"1\" class=\"dataframe\">\n",
       "  <thead>\n",
       "    <tr style=\"text-align: right;\">\n",
       "      <th></th>\n",
       "      <th></th>\n",
       "      <th></th>\n",
       "      <th>Arr</th>\n",
       "      <th>Dep</th>\n",
       "      <th>Dwell</th>\n",
       "      <th>Runtime</th>\n",
       "    </tr>\n",
       "    <tr>\n",
       "      <th>Train</th>\n",
       "      <th>Station</th>\n",
       "      <th>Date</th>\n",
       "      <th></th>\n",
       "      <th></th>\n",
       "      <th></th>\n",
       "      <th></th>\n",
       "    </tr>\n",
       "  </thead>\n",
       "  <tbody>\n",
       "    <tr>\n",
       "      <th rowspan=\"5\" valign=\"top\">701</th>\n",
       "      <th rowspan=\"5\" valign=\"top\">BFD</th>\n",
       "      <th>NaT</th>\n",
       "      <td>NaT</td>\n",
       "      <td>2018-03-01 06:00:00</td>\n",
       "      <td>NaT</td>\n",
       "      <td>NaT</td>\n",
       "    </tr>\n",
       "    <tr>\n",
       "      <th>NaT</th>\n",
       "      <td>NaT</td>\n",
       "      <td>2018-03-02 06:00:00</td>\n",
       "      <td>NaT</td>\n",
       "      <td>NaT</td>\n",
       "    </tr>\n",
       "    <tr>\n",
       "      <th>NaT</th>\n",
       "      <td>NaT</td>\n",
       "      <td>2018-03-03 06:00:00</td>\n",
       "      <td>NaT</td>\n",
       "      <td>NaT</td>\n",
       "    </tr>\n",
       "    <tr>\n",
       "      <th>NaT</th>\n",
       "      <td>NaT</td>\n",
       "      <td>2018-03-04 06:00:00</td>\n",
       "      <td>NaT</td>\n",
       "      <td>NaT</td>\n",
       "    </tr>\n",
       "    <tr>\n",
       "      <th>NaT</th>\n",
       "      <td>NaT</td>\n",
       "      <td>2018-03-05 06:00:00</td>\n",
       "      <td>NaT</td>\n",
       "      <td>NaT</td>\n",
       "    </tr>\n",
       "  </tbody>\n",
       "</table>\n",
       "</div>"
      ],
      "text/plain": [
       "                   Arr                 Dep Dwell Runtime\n",
       "Train Station Date                                      \n",
       "701   BFD     NaT  NaT 2018-03-01 06:00:00   NaT     NaT\n",
       "              NaT  NaT 2018-03-02 06:00:00   NaT     NaT\n",
       "              NaT  NaT 2018-03-03 06:00:00   NaT     NaT\n",
       "              NaT  NaT 2018-03-04 06:00:00   NaT     NaT\n",
       "              NaT  NaT 2018-03-05 06:00:00   NaT     NaT"
      ]
     },
     "execution_count": 2,
     "metadata": {},
     "output_type": "execute_result"
    }
   ],
   "source": [
    "print(\"Importing data\")\n",
    "\n",
    "dateparse = lambda x: pd.to_datetime([x])\n",
    "df = pd.read_csv(\"data1.csv\",\n",
    "                 parse_dates=[[\"Index Dt\",\"Act Arr\"],[\"Index Dt\",\"Act Dep\"]],\n",
    "                )#,header =4)\n",
    "df.drop([\"Arr\",\"Dep\"], axis=1, inplace=True)\n",
    "df.columns = [\"Arr\",\"Dep\",\"Train\",\"Station\"]\n",
    "\n",
    "print(\"Cleaning data\")\n",
    "\n",
    "for i in [\"Arr\",\"Dep\"]:\n",
    "    df[i] = pd.to_datetime(df[i],errors='coerce')\n",
    "df['Date'] = df['Arr'].dt.date\n",
    "    \n",
    "df.sort_values(by=['Train','Date', 'Arr'], inplace=True,na_position='first')\n",
    "df[\"Dwell\"] = df.Dep - df.Arr\n",
    "df['Runtime'] = df.Arr - df.Dep.shift()\n",
    "df.loc[df['Runtime'] > pd.Timedelta(.5,unit=\"D\"),\"Runtime\"] = pd.NaT\n",
    "df.loc[df['Runtime'] < pd.Timedelta(1,unit=\"s\"),\"Runtime\"] = pd.NaT\n",
    "df.reset_index(inplace = True,drop=True)\n",
    "\n",
    "print(\"Extracting list data\")\n",
    "\n",
    "values = \"Date\",\"Train\",\"Station\"\n",
    "dd = {i:None for i in values}\n",
    "\n",
    "for key in dd:\n",
    "    dd[key] = list(df[key].unique())\n",
    "    dd[key] = [x for x in dd[key] if str(x)!= 'nan']\n",
    "    dd[key].sort()\n",
    "\n",
    "print(\"Data lists extracted\")\n",
    "\n",
    "start_date = min(df['Date'])\n",
    "end_date = max(df['Date'])\n",
    "df.set_index(['Train','Station','Date'],inplace = True)\n",
    "df.sort_values(by=[\"Train\",\"Date\",'Arr'])\n",
    "print(df.shape)\n",
    "\n",
    "df.head()"
   ]
  },
  {
   "cell_type": "code",
   "execution_count": 3,
   "metadata": {},
   "outputs": [
    {
     "data": {
      "text/html": [
       "<div>\n",
       "<style scoped>\n",
       "    .dataframe tbody tr th:only-of-type {\n",
       "        vertical-align: middle;\n",
       "    }\n",
       "\n",
       "    .dataframe tbody tr th {\n",
       "        vertical-align: top;\n",
       "    }\n",
       "\n",
       "    .dataframe thead th {\n",
       "        text-align: right;\n",
       "    }\n",
       "</style>\n",
       "<table border=\"1\" class=\"dataframe\">\n",
       "  <thead>\n",
       "    <tr style=\"text-align: right;\">\n",
       "      <th></th>\n",
       "      <th></th>\n",
       "      <th></th>\n",
       "      <th>Arr</th>\n",
       "      <th>Dep</th>\n",
       "      <th>Dwell</th>\n",
       "      <th>Runtime</th>\n",
       "    </tr>\n",
       "    <tr>\n",
       "      <th>Train</th>\n",
       "      <th>Station</th>\n",
       "      <th>Date</th>\n",
       "      <th></th>\n",
       "      <th></th>\n",
       "      <th></th>\n",
       "      <th></th>\n",
       "    </tr>\n",
       "  </thead>\n",
       "  <tbody>\n",
       "    <tr>\n",
       "      <th>701</th>\n",
       "      <th>FNO</th>\n",
       "      <th>NaT</th>\n",
       "      <td>NaT</td>\n",
       "      <td>2018-06-07 04:25:00</td>\n",
       "      <td>NaT</td>\n",
       "      <td>NaT</td>\n",
       "    </tr>\n",
       "  </tbody>\n",
       "</table>\n",
       "</div>"
      ],
      "text/plain": [
       "                   Arr                 Dep Dwell Runtime\n",
       "Train Station Date                                      \n",
       "701   FNO     NaT  NaT 2018-06-07 04:25:00   NaT     NaT"
      ]
     },
     "execution_count": 3,
     "metadata": {},
     "output_type": "execute_result"
    }
   ],
   "source": [
    "df.iloc[[87]]"
   ]
  },
  {
   "cell_type": "code",
   "execution_count": 4,
   "metadata": {},
   "outputs": [
    {
     "data": {
      "application/vnd.jupyter.widget-view+json": {
       "model_id": "1d11505cae964a0d8df83f4d8f13d296",
       "version_major": 2,
       "version_minor": 0
      },
      "text/plain": [
       "VBox(children=(interactive(children=(Dropdown(description='TrainNumber', options=(701, 702, 703, 704, 710, 711…"
      ]
     },
     "metadata": {},
     "output_type": "display_data"
    }
   ],
   "source": [
    "options = {\n",
    "    'title': \"Histogram\"\n",
    "}\n",
    "\n",
    "\n",
    "def hist_response(TrainNumber,Station,RunType,Unit):\n",
    "    global df\n",
    "    out = df.xs(\n",
    "        (TrainNumber, Station),\n",
    "        level=[0, 'Station'])[RunType].dt.seconds.sort_index()\n",
    "    units = {\n",
    "        \"Mins\": 60,\n",
    "        \"Seconds\": 1,\n",
    "    }\n",
    "    out = out/units[Unit]\n",
    "    return(out)\n",
    "\n",
    "\n",
    "nbi.hist(\n",
    "    hist_response,\n",
    "    TrainNumber = dd[\"Train\"],\n",
    "    Station = dd[\"Station\"],\n",
    "    RunType = [\"Runtime\",\"Dwell\"],\n",
    "    Unit = [\"Mins\",\"Seconds\"]\n",
    "#     options = options\n",
    ")"
   ]
  },
  {
   "cell_type": "code",
   "execution_count": 5,
   "metadata": {},
   "outputs": [],
   "source": [
    "# nbi.publish(spec, nb_name, template='full', save_first=True)"
   ]
  }
 ],
 "metadata": {
  "extensions": {
   "jupyter_dashboards": {
    "activeView": "report_default",
    "version": 1,
    "views": {
     "grid_default": {
      "name": "grid",
      "type": "grid"
     },
     "report_default": {
      "name": "report",
      "type": "report"
     }
    }
   }
  },
  "kernelspec": {
   "display_name": "Python [default]",
   "language": "python",
   "name": "python3"
  },
  "language_info": {
   "codemirror_mode": {
    "name": "ipython",
    "version": 3
   },
   "file_extension": ".py",
   "mimetype": "text/x-python",
   "name": "python",
   "nbconvert_exporter": "python",
   "pygments_lexer": "ipython3",
   "version": "3.7.0"
  }
 },
 "nbformat": 4,
 "nbformat_minor": 2
}
